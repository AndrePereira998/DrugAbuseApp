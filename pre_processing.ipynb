{
 "cells": [
  {
   "cell_type": "code",
   "execution_count": 1,
   "id": "742c8acc",
   "metadata": {},
   "outputs": [],
   "source": [
    "import pandas as pd\n",
    "import numpy as np \n",
    "import os\n",
    "import plotly.graph_objects as go\n",
    "import plotly.io as pio\n",
    "pio.renderers\n",
    "from sklearn.preprocessing import MinMaxScaler\n",
    "import matplotlib.pyplot as plt\n",
    "import seaborn as sns"
   ]
  },
  {
   "cell_type": "code",
   "execution_count": 2,
   "id": "e7677fc2",
   "metadata": {},
   "outputs": [],
   "source": [
    "data = pd.read_csv('drug_consumption.data',header=None)"
   ]
  },
  {
   "cell_type": "code",
   "execution_count": 3,
   "id": "1fab63ed",
   "metadata": {},
   "outputs": [],
   "source": [
    "data = data.iloc[:, 1:]"
   ]
  },
  {
   "cell_type": "code",
   "execution_count": 4,
   "id": "acec7651",
   "metadata": {},
   "outputs": [],
   "source": [
    "data.rename(columns={1: \"Age\", 2: \"Gender\", 3: \"Education\",4: \"Country\",\n",
    "                     5: \"Ethnicity\",6: \"Neuroticism\",7: \"Extraversion\",8: \"Openness\",\n",
    "                     9: \"Agreeableness\",10: \"Conscientiouness\",11: \"Impulsiveness\",12: \"Sensation Seing\",\n",
    "                     13: \"Alcohol\",14: \"Amphet\",15: \"Amyl\",16: \"Benzos\",\n",
    "                     17: \"Caff\",18: \"Cannabis\",19: \"Choc\",20: \"Coke\",\n",
    "                     21: \"Crack\",22: \"Ecstasy\",23: \"Heroin\",24: \"Ketamine\",\n",
    "                     25: \"Legalh\",26: \"LSD\",27: \"Meth\",28: \"Mushrooms\",\n",
    "                     29: \"Nicotine\",30: \"Semer\",31: \"VSA\"}, inplace = True)"
   ]
  },
  {
   "cell_type": "code",
   "execution_count": 5,
   "id": "9a46db22",
   "metadata": {},
   "outputs": [],
   "source": [
    "Personality_measure = ['Neuroticism','Extraversion','Openness','Agreeableness','Conscientiouness','Impulsiveness','Sensation Seing']\n",
    "Drugs = ['Alcohol','Amphet','Amyl','Benzos','Caff','Cannabis','Choc','Coke','Crack','Ecstasy','Heroin','Ketamine','Legalh','LSD','Meth','Mushrooms','Nicotine','Semer','VSA']\n",
    "Participants = ['Age','Gender','Education','Country','Ethnicity']\n"
   ]
  },
  {
   "cell_type": "markdown",
   "id": "4b9ef116",
   "metadata": {},
   "source": [
    "# data set especifico para os bar plots"
   ]
  },
  {
   "cell_type": "code",
   "execution_count": 6,
   "id": "8b45606e",
   "metadata": {},
   "outputs": [],
   "source": [
    "slider = data.copy()"
   ]
  },
  {
   "cell_type": "code",
   "execution_count": 7,
   "id": "db530593",
   "metadata": {},
   "outputs": [],
   "source": [
    "for drug in Drugs:\n",
    "    slider.loc[slider[drug] == 'CL0', drug] = 'Never'\n",
    "    slider.loc[slider[drug] == 'CL1', drug] = 'More than a year'\n",
    "    slider.loc[slider[drug] == 'CL2', drug] = 'More than a year'\n",
    "    slider.loc[slider[drug] == 'CL3', drug] = 'More than a year'\n",
    "    slider.loc[slider[drug] == 'CL4', drug] = 'Less than a year'\n",
    "    slider.loc[slider[drug] == 'CL5', drug] = 'Less than a year'\n",
    "    slider.loc[slider[drug] == 'CL6', drug] = 'Less than a year'"
   ]
  },
  {
   "cell_type": "code",
   "execution_count": 8,
   "id": "6dd1c604",
   "metadata": {},
   "outputs": [],
   "source": [
    "usage_rate = ['Never', 'More than a year', 'Less than a year']"
   ]
  },
  {
   "cell_type": "code",
   "execution_count": 9,
   "id": "dadce2e2",
   "metadata": {},
   "outputs": [],
   "source": [
    "never_list = []\n",
    "for drug in Drugs:\n",
    "    never_list.append((slider[drug]=='Never').sum())\n",
    "    \n",
    "more_year_list = []\n",
    "for drug in Drugs:\n",
    "    more_year_list.append((slider[drug]=='More than a year').sum())\n",
    "    \n",
    "less_year_list = []    \n",
    "for drug in Drugs:\n",
    "    less_year_list.append((slider[drug]=='Less than a year').sum())\n"
   ]
  },
  {
   "cell_type": "markdown",
   "id": "78e91579",
   "metadata": {},
   "source": [
    "### fazer dataset com o numero de acontecimentos do tipo never, more than a year and ...."
   ]
  },
  {
   "cell_type": "code",
   "execution_count": 10,
   "id": "4f6152f7",
   "metadata": {},
   "outputs": [],
   "source": [
    "d = {'Never': never_list, 'More Than a Year Ago': more_year_list, 'Less Than a Year Ago':less_year_list}"
   ]
  },
  {
   "cell_type": "code",
   "execution_count": 11,
   "id": "9b1a8797",
   "metadata": {},
   "outputs": [],
   "source": [
    "df_slider = pd.DataFrame(data=d)"
   ]
  },
  {
   "cell_type": "code",
   "execution_count": 12,
   "id": "96c08a38",
   "metadata": {
    "scrolled": false
   },
   "outputs": [],
   "source": [
    "df_slider = df_slider.set_axis(Drugs)"
   ]
  },
  {
   "cell_type": "code",
   "execution_count": 13,
   "id": "59f21c5c",
   "metadata": {},
   "outputs": [],
   "source": [
    "df_slider = df_slider.transpose()"
   ]
  },
  {
   "cell_type": "code",
   "execution_count": null,
   "id": "3ec19434",
   "metadata": {},
   "outputs": [],
   "source": [
    "df_slider.to_csv('histogram_usage.csv')"
   ]
  },
  {
   "cell_type": "markdown",
   "id": "87a623e0",
   "metadata": {},
   "source": [
    "# Data set especifico para o heatmap"
   ]
  },
  {
   "cell_type": "code",
   "execution_count": 14,
   "id": "6e36d181",
   "metadata": {},
   "outputs": [],
   "source": [
    "heatmap = data.copy()"
   ]
  },
  {
   "cell_type": "code",
   "execution_count": 15,
   "id": "4ebb7494",
   "metadata": {},
   "outputs": [],
   "source": [
    "for drug in Drugs:\n",
    "    heatmap.loc[heatmap[drug] == 'CL0', drug] = 0\n",
    "    heatmap.loc[heatmap[drug] == 'CL1', drug] = 1\n",
    "    heatmap.loc[heatmap[drug] == 'CL2', drug] = 2\n",
    "    heatmap.loc[heatmap[drug] == 'CL3', drug] = 3\n",
    "    heatmap.loc[heatmap[drug] == 'CL4', drug] = 4\n",
    "    heatmap.loc[heatmap[drug] == 'CL5', drug] = 5\n",
    "    heatmap.loc[heatmap[drug] == 'CL6', drug] = 6"
   ]
  },
  {
   "cell_type": "code",
   "execution_count": 16,
   "id": "361c6518",
   "metadata": {},
   "outputs": [],
   "source": [
    "scaler = MinMaxScaler()\n",
    "scaler.fit(heatmap[Drugs])\n",
    "scaler_data = scaler.transform(heatmap[Drugs])"
   ]
  },
  {
   "cell_type": "code",
   "execution_count": 17,
   "id": "22ffe5a6",
   "metadata": {},
   "outputs": [],
   "source": [
    "df_heatmap = pd.DataFrame(scaler_data, columns = Drugs)"
   ]
  },
  {
   "cell_type": "code",
   "execution_count": 18,
   "id": "659ad6c5",
   "metadata": {},
   "outputs": [],
   "source": [
    "df_heatmap = pd.concat([heatmap[Personality_measure],heatmap[Participants],df_heatmap ], axis=1)"
   ]
  },
  {
   "cell_type": "code",
   "execution_count": 19,
   "id": "28e4a307",
   "metadata": {},
   "outputs": [],
   "source": [
    "corrM = df_heatmap.corr()"
   ]
  },
  {
   "cell_type": "code",
   "execution_count": 20,
   "id": "e556ae46",
   "metadata": {},
   "outputs": [],
   "source": [
    "CorrM = corrM[Drugs]"
   ]
  },
  {
   "cell_type": "code",
   "execution_count": 21,
   "id": "a797d093",
   "metadata": {},
   "outputs": [
    {
     "name": "stderr",
     "output_type": "stream",
     "text": [
      "C:\\Users\\andre\\anaconda3\\lib\\site-packages\\pandas\\core\\frame.py:4308: SettingWithCopyWarning:\n",
      "\n",
      "\n",
      "A value is trying to be set on a copy of a slice from a DataFrame\n",
      "\n",
      "See the caveats in the documentation: https://pandas.pydata.org/pandas-docs/stable/user_guide/indexing.html#returning-a-view-versus-a-copy\n",
      "\n"
     ]
    }
   ],
   "source": [
    "CorrM.drop(Drugs, inplace= True)"
   ]
  },
  {
   "cell_type": "code",
   "execution_count": 22,
   "id": "f7580abe",
   "metadata": {},
   "outputs": [],
   "source": [
    "CorrM.reset_index(level=0, inplace = True)"
   ]
  },
  {
   "cell_type": "code",
   "execution_count": 33,
   "id": "bf4b441a",
   "metadata": {},
   "outputs": [],
   "source": [
    "CorrM.to_csv('correlation_heatmap.csv')"
   ]
  },
  {
   "cell_type": "markdown",
   "id": "bb600de8",
   "metadata": {},
   "source": [
    "# data set especifico para o radar chart"
   ]
  },
  {
   "cell_type": "code",
   "execution_count": 23,
   "id": "cdebbf7a",
   "metadata": {},
   "outputs": [],
   "source": [
    "radar = data.copy()"
   ]
  },
  {
   "cell_type": "markdown",
   "id": "657f2d62",
   "metadata": {},
   "source": [
    "### age"
   ]
  },
  {
   "cell_type": "code",
   "execution_count": 24,
   "id": "0a8fa27c",
   "metadata": {},
   "outputs": [],
   "source": [
    "\n",
    "radar.loc[radar['Age'] == -0.95197, 'Age'] = '18-24'\n",
    "radar.loc[radar['Age'] == -0.07854, 'Age'] = '25-34'\n",
    "radar.loc[radar['Age'] == 0.49788, 'Age'] = '35-44'\n",
    "radar.loc[radar['Age'] == 1.09449, 'Age'] = '45-54'\n",
    "radar.loc[radar['Age'] == 1.82213, 'Age'] = '55-64'\n",
    "radar.loc[radar['Age'] == 2.59171, 'Age'] = '65+'"
   ]
  },
  {
   "cell_type": "code",
   "execution_count": 25,
   "id": "d476ca82",
   "metadata": {},
   "outputs": [],
   "source": [
    "radar.loc[radar['Gender'] == -0.48246, 'Gender'] = 'Male'\n",
    "radar.loc[radar['Gender'] == 0.48246, 'Gender'] = 'Female'"
   ]
  },
  {
   "cell_type": "code",
   "execution_count": 26,
   "id": "3e740fba",
   "metadata": {},
   "outputs": [],
   "source": [
    "radar.loc[radar['Education'] == -2.43591 , 'Education'] = 'School Dropout'\n",
    "radar.loc[radar['Education'] == -1.73790, 'Education'] = 'School Dropout'\n",
    "radar.loc[radar['Education'] == -1.43719 , 'Education'] = 'School Dropout'\n",
    "radar.loc[radar['Education'] == -1.22751 , 'Education'] = 'School Dropout'\n",
    "radar.loc[radar['Education'] == -0.61113, 'Education'] = 'college - no degree'\n",
    "radar.loc[radar['Education'] == -0.05921, 'Education'] = 'Professional certificate'\n",
    "radar.loc[radar['Education'] == 0.45468, 'Education'] = 'University Degree'\n",
    "radar.loc[radar['Education'] == 1.16365, 'Education'] = 'Masters or Doctorate Degree'\n",
    "radar.loc[radar['Education'] == 1.98437, 'Education'] = 'Masters or Doctorate Degree'"
   ]
  },
  {
   "cell_type": "code",
   "execution_count": 27,
   "id": "e76ba971",
   "metadata": {},
   "outputs": [],
   "source": [
    "scaler_radar = MinMaxScaler(feature_range = (0,20))\n",
    "scaler_radar.fit(radar[Personality_measure])\n",
    "scaled_radar = scaler_radar.transform(radar[Personality_measure])"
   ]
  },
  {
   "cell_type": "code",
   "execution_count": 28,
   "id": "445531dd",
   "metadata": {},
   "outputs": [
    {
     "data": {
      "text/html": [
       "<div>\n",
       "<style scoped>\n",
       "    .dataframe tbody tr th:only-of-type {\n",
       "        vertical-align: middle;\n",
       "    }\n",
       "\n",
       "    .dataframe tbody tr th {\n",
       "        vertical-align: top;\n",
       "    }\n",
       "\n",
       "    .dataframe thead th {\n",
       "        text-align: right;\n",
       "    }\n",
       "</style>\n",
       "<table border=\"1\" class=\"dataframe\">\n",
       "  <thead>\n",
       "    <tr style=\"text-align: right;\">\n",
       "      <th></th>\n",
       "      <th>Alcohol</th>\n",
       "      <th>Amphet</th>\n",
       "      <th>Amyl</th>\n",
       "      <th>Benzos</th>\n",
       "      <th>Caff</th>\n",
       "      <th>Cannabis</th>\n",
       "      <th>Choc</th>\n",
       "      <th>Coke</th>\n",
       "      <th>Crack</th>\n",
       "      <th>Ecstasy</th>\n",
       "      <th>...</th>\n",
       "      <th>Age</th>\n",
       "      <th>Gender</th>\n",
       "      <th>Education</th>\n",
       "      <th>Neuroticism</th>\n",
       "      <th>Extraversion</th>\n",
       "      <th>Openness</th>\n",
       "      <th>Agreeableness</th>\n",
       "      <th>Conscientiouness</th>\n",
       "      <th>Impulsiveness</th>\n",
       "      <th>Sensation Seing</th>\n",
       "    </tr>\n",
       "  </thead>\n",
       "  <tbody>\n",
       "    <tr>\n",
       "      <th>0</th>\n",
       "      <td>CL5</td>\n",
       "      <td>CL2</td>\n",
       "      <td>CL0</td>\n",
       "      <td>CL2</td>\n",
       "      <td>CL6</td>\n",
       "      <td>CL0</td>\n",
       "      <td>CL5</td>\n",
       "      <td>CL0</td>\n",
       "      <td>CL0</td>\n",
       "      <td>CL0</td>\n",
       "      <td>...</td>\n",
       "      <td>35-44</td>\n",
       "      <td>Female</td>\n",
       "      <td>Professional certificate</td>\n",
       "      <td>11.211242</td>\n",
       "      <td>8.242327</td>\n",
       "      <td>8.713797</td>\n",
       "      <td>7.353075</td>\n",
       "      <td>9.980805</td>\n",
       "      <td>8.569486</td>\n",
       "      <td>4.487964</td>\n",
       "    </tr>\n",
       "    <tr>\n",
       "      <th>1</th>\n",
       "      <td>CL5</td>\n",
       "      <td>CL2</td>\n",
       "      <td>CL2</td>\n",
       "      <td>CL0</td>\n",
       "      <td>CL6</td>\n",
       "      <td>CL4</td>\n",
       "      <td>CL6</td>\n",
       "      <td>CL3</td>\n",
       "      <td>CL0</td>\n",
       "      <td>CL4</td>\n",
       "      <td>...</td>\n",
       "      <td>25-34</td>\n",
       "      <td>Male</td>\n",
       "      <td>Masters or Doctorate Degree</td>\n",
       "      <td>8.269487</td>\n",
       "      <td>15.922118</td>\n",
       "      <td>15.251330</td>\n",
       "      <td>12.196538</td>\n",
       "      <td>9.587889</td>\n",
       "      <td>6.758405</td>\n",
       "      <td>9.313161</td>\n",
       "    </tr>\n",
       "    <tr>\n",
       "      <th>2</th>\n",
       "      <td>CL6</td>\n",
       "      <td>CL0</td>\n",
       "      <td>CL0</td>\n",
       "      <td>CL0</td>\n",
       "      <td>CL6</td>\n",
       "      <td>CL3</td>\n",
       "      <td>CL4</td>\n",
       "      <td>CL0</td>\n",
       "      <td>CL0</td>\n",
       "      <td>CL0</td>\n",
       "      <td>...</td>\n",
       "      <td>35-44</td>\n",
       "      <td>Male</td>\n",
       "      <td>Professional certificate</td>\n",
       "      <td>8.895758</td>\n",
       "      <td>12.459521</td>\n",
       "      <td>7.858778</td>\n",
       "      <td>5.321214</td>\n",
       "      <td>7.071609</td>\n",
       "      <td>4.308017</td>\n",
       "      <td>12.399149</td>\n",
       "    </tr>\n",
       "    <tr>\n",
       "      <th>3</th>\n",
       "      <td>CL4</td>\n",
       "      <td>CL0</td>\n",
       "      <td>CL0</td>\n",
       "      <td>CL3</td>\n",
       "      <td>CL5</td>\n",
       "      <td>CL2</td>\n",
       "      <td>CL4</td>\n",
       "      <td>CL2</td>\n",
       "      <td>CL0</td>\n",
       "      <td>CL0</td>\n",
       "      <td>...</td>\n",
       "      <td>18-24</td>\n",
       "      <td>Female</td>\n",
       "      <td>Masters or Doctorate Degree</td>\n",
       "      <td>9.840894</td>\n",
       "      <td>7.537669</td>\n",
       "      <td>10.540455</td>\n",
       "      <td>11.704269</td>\n",
       "      <td>11.688306</td>\n",
       "      <td>4.308017</td>\n",
       "      <td>4.487964</td>\n",
       "    </tr>\n",
       "    <tr>\n",
       "      <th>4</th>\n",
       "      <td>CL4</td>\n",
       "      <td>CL1</td>\n",
       "      <td>CL1</td>\n",
       "      <td>CL0</td>\n",
       "      <td>CL6</td>\n",
       "      <td>CL3</td>\n",
       "      <td>CL6</td>\n",
       "      <td>CL0</td>\n",
       "      <td>CL0</td>\n",
       "      <td>CL1</td>\n",
       "      <td>...</td>\n",
       "      <td>35-44</td>\n",
       "      <td>Female</td>\n",
       "      <td>Masters or Doctorate Degree</td>\n",
       "      <td>12.465507</td>\n",
       "      <td>5.010889</td>\n",
       "      <td>9.139897</td>\n",
       "      <td>9.129074</td>\n",
       "      <td>13.770162</td>\n",
       "      <td>8.569486</td>\n",
       "      <td>9.313161</td>\n",
       "    </tr>\n",
       "    <tr>\n",
       "      <th>...</th>\n",
       "      <td>...</td>\n",
       "      <td>...</td>\n",
       "      <td>...</td>\n",
       "      <td>...</td>\n",
       "      <td>...</td>\n",
       "      <td>...</td>\n",
       "      <td>...</td>\n",
       "      <td>...</td>\n",
       "      <td>...</td>\n",
       "      <td>...</td>\n",
       "      <td>...</td>\n",
       "      <td>...</td>\n",
       "      <td>...</td>\n",
       "      <td>...</td>\n",
       "      <td>...</td>\n",
       "      <td>...</td>\n",
       "      <td>...</td>\n",
       "      <td>...</td>\n",
       "      <td>...</td>\n",
       "      <td>...</td>\n",
       "      <td>...</td>\n",
       "    </tr>\n",
       "    <tr>\n",
       "      <th>1880</th>\n",
       "      <td>CL5</td>\n",
       "      <td>CL0</td>\n",
       "      <td>CL0</td>\n",
       "      <td>CL0</td>\n",
       "      <td>CL4</td>\n",
       "      <td>CL5</td>\n",
       "      <td>CL4</td>\n",
       "      <td>CL0</td>\n",
       "      <td>CL0</td>\n",
       "      <td>CL0</td>\n",
       "      <td>...</td>\n",
       "      <td>18-24</td>\n",
       "      <td>Female</td>\n",
       "      <td>college - no degree</td>\n",
       "      <td>6.737793</td>\n",
       "      <td>15.317493</td>\n",
       "      <td>16.707980</td>\n",
       "      <td>12.196538</td>\n",
       "      <td>6.715468</td>\n",
       "      <td>12.594702</td>\n",
       "      <td>20.000000</td>\n",
       "    </tr>\n",
       "    <tr>\n",
       "      <th>1881</th>\n",
       "      <td>CL5</td>\n",
       "      <td>CL0</td>\n",
       "      <td>CL0</td>\n",
       "      <td>CL0</td>\n",
       "      <td>CL5</td>\n",
       "      <td>CL3</td>\n",
       "      <td>CL4</td>\n",
       "      <td>CL0</td>\n",
       "      <td>CL0</td>\n",
       "      <td>CL2</td>\n",
       "      <td>...</td>\n",
       "      <td>18-24</td>\n",
       "      <td>Male</td>\n",
       "      <td>college - no degree</td>\n",
       "      <td>9.550999</td>\n",
       "      <td>15.317493</td>\n",
       "      <td>12.491993</td>\n",
       "      <td>12.196538</td>\n",
       "      <td>5.617084</td>\n",
       "      <td>12.594702</td>\n",
       "      <td>14.218654</td>\n",
       "    </tr>\n",
       "    <tr>\n",
       "      <th>1882</th>\n",
       "      <td>CL4</td>\n",
       "      <td>CL6</td>\n",
       "      <td>CL5</td>\n",
       "      <td>CL5</td>\n",
       "      <td>CL6</td>\n",
       "      <td>CL6</td>\n",
       "      <td>CL6</td>\n",
       "      <td>CL4</td>\n",
       "      <td>CL0</td>\n",
       "      <td>CL4</td>\n",
       "      <td>...</td>\n",
       "      <td>25-34</td>\n",
       "      <td>Female</td>\n",
       "      <td>University Degree</td>\n",
       "      <td>13.644916</td>\n",
       "      <td>5.795909</td>\n",
       "      <td>6.471985</td>\n",
       "      <td>4.885058</td>\n",
       "      <td>6.002090</td>\n",
       "      <td>11.306853</td>\n",
       "      <td>7.762342</td>\n",
       "    </tr>\n",
       "    <tr>\n",
       "      <th>1883</th>\n",
       "      <td>CL5</td>\n",
       "      <td>CL0</td>\n",
       "      <td>CL0</td>\n",
       "      <td>CL0</td>\n",
       "      <td>CL6</td>\n",
       "      <td>CL6</td>\n",
       "      <td>CL5</td>\n",
       "      <td>CL0</td>\n",
       "      <td>CL0</td>\n",
       "      <td>CL3</td>\n",
       "      <td>...</td>\n",
       "      <td>18-24</td>\n",
       "      <td>Female</td>\n",
       "      <td>college - no degree</td>\n",
       "      <td>12.986351</td>\n",
       "      <td>4.130204</td>\n",
       "      <td>11.553030</td>\n",
       "      <td>5.321214</td>\n",
       "      <td>2.572683</td>\n",
       "      <td>14.101359</td>\n",
       "      <td>16.515033</td>\n",
       "    </tr>\n",
       "    <tr>\n",
       "      <th>1884</th>\n",
       "      <td>CL4</td>\n",
       "      <td>CL3</td>\n",
       "      <td>CL0</td>\n",
       "      <td>CL3</td>\n",
       "      <td>CL6</td>\n",
       "      <td>CL3</td>\n",
       "      <td>CL6</td>\n",
       "      <td>CL3</td>\n",
       "      <td>CL0</td>\n",
       "      <td>CL3</td>\n",
       "      <td>...</td>\n",
       "      <td>18-24</td>\n",
       "      <td>Male</td>\n",
       "      <td>college - no degree</td>\n",
       "      <td>8.895758</td>\n",
       "      <td>16.496779</td>\n",
       "      <td>15.967705</td>\n",
       "      <td>13.215774</td>\n",
       "      <td>11.200626</td>\n",
       "      <td>12.594702</td>\n",
       "      <td>16.515033</td>\n",
       "    </tr>\n",
       "  </tbody>\n",
       "</table>\n",
       "<p>1885 rows × 29 columns</p>\n",
       "</div>"
      ],
      "text/plain": [
       "     Alcohol Amphet Amyl Benzos Caff Cannabis Choc Coke Crack Ecstasy  ...  \\\n",
       "0        CL5    CL2  CL0    CL2  CL6      CL0  CL5  CL0   CL0     CL0  ...   \n",
       "1        CL5    CL2  CL2    CL0  CL6      CL4  CL6  CL3   CL0     CL4  ...   \n",
       "2        CL6    CL0  CL0    CL0  CL6      CL3  CL4  CL0   CL0     CL0  ...   \n",
       "3        CL4    CL0  CL0    CL3  CL5      CL2  CL4  CL2   CL0     CL0  ...   \n",
       "4        CL4    CL1  CL1    CL0  CL6      CL3  CL6  CL0   CL0     CL1  ...   \n",
       "...      ...    ...  ...    ...  ...      ...  ...  ...   ...     ...  ...   \n",
       "1880     CL5    CL0  CL0    CL0  CL4      CL5  CL4  CL0   CL0     CL0  ...   \n",
       "1881     CL5    CL0  CL0    CL0  CL5      CL3  CL4  CL0   CL0     CL2  ...   \n",
       "1882     CL4    CL6  CL5    CL5  CL6      CL6  CL6  CL4   CL0     CL4  ...   \n",
       "1883     CL5    CL0  CL0    CL0  CL6      CL6  CL5  CL0   CL0     CL3  ...   \n",
       "1884     CL4    CL3  CL0    CL3  CL6      CL3  CL6  CL3   CL0     CL3  ...   \n",
       "\n",
       "        Age  Gender                    Education Neuroticism Extraversion  \\\n",
       "0     35-44  Female     Professional certificate   11.211242     8.242327   \n",
       "1     25-34    Male  Masters or Doctorate Degree    8.269487    15.922118   \n",
       "2     35-44    Male     Professional certificate    8.895758    12.459521   \n",
       "3     18-24  Female  Masters or Doctorate Degree    9.840894     7.537669   \n",
       "4     35-44  Female  Masters or Doctorate Degree   12.465507     5.010889   \n",
       "...     ...     ...                          ...         ...          ...   \n",
       "1880  18-24  Female          college - no degree    6.737793    15.317493   \n",
       "1881  18-24    Male          college - no degree    9.550999    15.317493   \n",
       "1882  25-34  Female            University Degree   13.644916     5.795909   \n",
       "1883  18-24  Female          college - no degree   12.986351     4.130204   \n",
       "1884  18-24    Male          college - no degree    8.895758    16.496779   \n",
       "\n",
       "       Openness Agreeableness Conscientiouness Impulsiveness Sensation Seing  \n",
       "0      8.713797      7.353075         9.980805      8.569486        4.487964  \n",
       "1     15.251330     12.196538         9.587889      6.758405        9.313161  \n",
       "2      7.858778      5.321214         7.071609      4.308017       12.399149  \n",
       "3     10.540455     11.704269        11.688306      4.308017        4.487964  \n",
       "4      9.139897      9.129074        13.770162      8.569486        9.313161  \n",
       "...         ...           ...              ...           ...             ...  \n",
       "1880  16.707980     12.196538         6.715468     12.594702       20.000000  \n",
       "1881  12.491993     12.196538         5.617084     12.594702       14.218654  \n",
       "1882   6.471985      4.885058         6.002090     11.306853        7.762342  \n",
       "1883  11.553030      5.321214         2.572683     14.101359       16.515033  \n",
       "1884  15.967705     13.215774        11.200626     12.594702       16.515033  \n",
       "\n",
       "[1885 rows x 29 columns]"
      ]
     },
     "execution_count": 28,
     "metadata": {},
     "output_type": "execute_result"
    }
   ],
   "source": [
    "df_radar = pd.DataFrame(scaled_radar, columns = Personality_measure)\n",
    "df_radar = pd.concat([radar[Drugs],radar[Participants],df_radar ], axis=1)\n",
    "df_radar.drop(['Country','Ethnicity'],axis=1)"
   ]
  },
  {
   "cell_type": "code",
   "execution_count": 29,
   "id": "e9d6d72f",
   "metadata": {},
   "outputs": [],
   "source": [
    "for drug in Drugs:\n",
    "    df_radar.loc[df_radar[drug] == 'CL0', drug] = 'Never'\n",
    "    df_radar.loc[df_radar[drug] == 'CL1', drug] = 'More than a year'\n",
    "    df_radar.loc[df_radar[drug] == 'CL2', drug] = 'More than a year'\n",
    "    df_radar.loc[df_radar[drug] == 'CL3', drug] = 'More than a year'\n",
    "    df_radar.loc[df_radar[drug] == 'CL4', drug] = 'Less than a year'\n",
    "    df_radar.loc[df_radar[drug] == 'CL5', drug] = 'Less than a year'\n",
    "    df_radar.loc[df_radar[drug] == 'CL6', drug] = 'Less than a year'"
   ]
  },
  {
   "cell_type": "code",
   "execution_count": 30,
   "id": "6927c2a0",
   "metadata": {},
   "outputs": [],
   "source": [
    "df_radar.drop(['Country','Ethnicity'],axis=1, inplace=True)"
   ]
  },
  {
   "cell_type": "code",
   "execution_count": 65,
   "id": "f9f0ae23",
   "metadata": {},
   "outputs": [],
   "source": [
    "df_radar.to_csv('radar_chart.csv')"
   ]
  }
 ],
 "metadata": {
  "kernelspec": {
   "display_name": "Python 3",
   "language": "python",
   "name": "python3"
  },
  "language_info": {
   "codemirror_mode": {
    "name": "ipython",
    "version": 3
   },
   "file_extension": ".py",
   "mimetype": "text/x-python",
   "name": "python",
   "nbconvert_exporter": "python",
   "pygments_lexer": "ipython3",
   "version": "3.8.8"
  }
 },
 "nbformat": 4,
 "nbformat_minor": 5
}
